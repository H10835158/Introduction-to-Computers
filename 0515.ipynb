{
  "nbformat": 4,
  "nbformat_minor": 0,
  "metadata": {
    "colab": {
      "provenance": [],
      "authorship_tag": "ABX9TyO8PUIkLktOXHQ5NGFuTcc+",
      "include_colab_link": true
    },
    "kernelspec": {
      "name": "python3",
      "display_name": "Python 3"
    },
    "language_info": {
      "name": "python"
    }
  },
  "cells": [
    {
      "cell_type": "markdown",
      "metadata": {
        "id": "view-in-github",
        "colab_type": "text"
      },
      "source": [
        "<a href=\"https://colab.research.google.com/github/H10835158/Introduction-to-Computers/blob/main/0515.ipynb\" target=\"_parent\"><img src=\"https://colab.research.google.com/assets/colab-badge.svg\" alt=\"Open In Colab\"/></a>"
      ]
    },
    {
      "cell_type": "code",
      "execution_count": null,
      "metadata": {
        "colab": {
          "base_uri": "https://localhost:8080/"
        },
        "id": "U3wFRMxvTLW9",
        "outputId": "c3663b38-b485-4988-a2a1-6c3eaddc8440"
      },
      "outputs": [
        {
          "output_type": "stream",
          "name": "stdout",
          "text": [
            "請輸入成績: 75\n",
            "C\n"
          ]
        }
      ],
      "source": [
        "score = int(input(\"請輸入成績: \"))\n",
        "\n",
        "if score >= 90:\n",
        "\n",
        "  print('A')\n",
        "\n",
        "elif score >= 80:\n",
        "\n",
        "  print('B')\n",
        "\n",
        "elif score >= 70:\n",
        "\n",
        "  print('C')\n",
        "\n",
        "elif score >= 60:\n",
        "\n",
        "  print('D')\n",
        "\n",
        "else:\n",
        "\n",
        "  print('E')"
      ]
    },
    {
      "cell_type": "code",
      "source": [
        "m = int(input('請輸入月份：'))\n",
        "if  m == 3 and 4 and 5:\n",
        "   print(m,'月是春天')\n",
        "elif m == 6 and 7 and 8:\n",
        "   print(m,'月是夏天')\n",
        "elif m == 9 and 10 and 11:\n",
        "   print(m,'月是秋天')\n",
        "elif m == 12 and 1 and 2:\n",
        "   print(month,'月是冬天')\n",
        "else:\n",
        "   print('月份不在範圍內！')"
      ],
      "metadata": {
        "colab": {
          "base_uri": "https://localhost:8080/"
        },
        "id": "mRHxaBVs90vs",
        "outputId": "9c175077-fb1a-41c1-d14f-c759ff4b0d38"
      },
      "execution_count": 5,
      "outputs": [
        {
          "output_type": "stream",
          "name": "stdout",
          "text": [
            "請輸入月份：5\n",
            "月份不在範圍內！\n"
          ]
        }
      ]
    },
    {
      "cell_type": "code",
      "execution_count": 2,
      "metadata": {
        "colab": {
          "base_uri": "https://localhost:8080/"
        },
        "outputId": "86aea27a-6383-4936-f791-2f41f58dd4c2",
        "id": "msx1oiofGOw7"
      },
      "outputs": [
        {
          "output_type": "stream",
          "name": "stdout",
          "text": [
            "請輸入體溫: 37\n",
            "體溫略高！\n"
          ]
        }
      ],
      "source": [
        "x = int(input(\"請輸入體溫: \"))\n",
        "\n",
        "if x >= 37.5:\n",
        "\n",
        "  print('體溫過高！')\n",
        "\n",
        "elif x <=37.4 and x >= 37:\n",
        "\n",
        "  print('體溫略高！')\n",
        "\n",
        "elif x <=36.9 and x >= 34 :\n",
        "\n",
        "  print('體溫正常!')\n",
        "else:\n",
        "\n",
        "  print('體溫異常，請重新量測!')"
      ]
    }
  ]
}